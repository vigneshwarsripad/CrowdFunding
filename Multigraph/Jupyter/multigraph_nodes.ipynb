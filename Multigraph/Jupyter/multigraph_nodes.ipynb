{
 "cells": [
  {
   "cell_type": "code",
   "execution_count": 1,
   "metadata": {},
   "outputs": [
    {
     "data": {
      "text/plain": [
       "{0: 1, 1: 2, 2: 3}"
      ]
     },
     "execution_count": 1,
     "metadata": {},
     "output_type": "execute_result"
    }
   ],
   "source": [
    "import networkx as nx\n",
    "import matplotlib\n",
    "G = nx.path_graph(3)\n",
    "list(G.nodes)\n",
    "[0, 1, 2]\n",
    "list(G)\n",
    "[0, 1, 2]\n",
    "#To get the node data along with the nodes:\n",
    "G.add_node(1, time='5pm')\n",
    "G.nodes[0]['foo'] = 'bar'\n",
    "list(G.nodes(data=True))\n",
    "[(0, {'foo': 'bar'}), (1, {'time': '5pm'}), (2, {})]\n",
    "list(G.nodes.data())\n",
    "[(0, {'foo': 'bar'}), (1, {'time': '5pm'}), (2, {})]\n",
    "list(G.nodes(data='foo'))\n",
    "[(0, 'bar'), (1, None), (2, None)]\n",
    "list(G.nodes.data('foo'))\n",
    "[(0, 'bar'), (1, None), (2, None)]\n",
    "list(G.nodes(data='time'))\n",
    "[(0, None), (1, '5pm'), (2, None)]\n",
    "list(G.nodes.data('time'))\n",
    "[(0, None), (1, '5pm'), (2, None)]\n",
    "list(G.nodes(data='time', default='Not Available'))\n",
    "[(0, 'Not Available'), (1, '5pm'), (2, 'Not Available')]\n",
    "list(G.nodes.data('time', default='Not Available'))\n",
    "[(0, 'Not Available'), (1, '5pm'), (2, 'Not Available')]\n",
    "#If some of your nodes have an attribute and the rest are assumed to have a default attribute value you can create a dictionary from node/attribute pairs using the default keyword argument to guarantee the value is never\n",
    "#None:\n",
    "G = nx.Graph()\n",
    "G.add_node(0)\n",
    "G.add_node(1, weight=2)\n",
    "\n",
    "\n",
    "G.add_node(2, weight=3)\n",
    "dict(G.nodes(data='weight', default=1))\n",
    "{0: 1, 1: 2, 2: 3}"
   ]
  },
  {
   "cell_type": "code",
   "execution_count": 3,
   "metadata": {},
   "outputs": [
    {
     "data": {
      "image/png": "[encoded data removed]",
      "text/plain": [
       "<Figure size 432x288 with 1 Axes>"
      ]
     },
     "metadata": {},
     "output_type": "display_data"
    }
   ],
   "source": [
    "nx.draw(G)"
   ]
  },
  {
   "cell_type": "code",
   "execution_count": null,
   "metadata": {},
   "outputs": [],
   "source": []
  }
 ],
 "metadata": {
  "kernelspec": {
   "display_name": "Python 3",
   "language": "python",
   "name": "python3"
  },
  "language_info": {
   "codemirror_mode": {
    "name": "ipython",
    "version": 3
   },
   "file_extension": ".py",
   "mimetype": "text/x-python",
   "name": "python",
   "nbconvert_exporter": "python",
   "pygments_lexer": "ipython3",
   "version": "3.7.2"
  }
 },
 "nbformat": 4,
 "nbformat_minor": 2
}
