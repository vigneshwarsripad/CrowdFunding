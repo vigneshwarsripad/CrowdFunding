{
 "cells": [
  {
   "cell_type": "code",
   "execution_count": 1,
   "metadata": {},
   "outputs": [
    {
     "data": {
      "text/plain": [
       "[]"
      ]
     },
     "execution_count": 1,
     "metadata": {},
     "output_type": "execute_result"
    }
   ],
   "source": [
    "import networkx as nx\n",
    "import matplotlib\n",
    "G = nx.path_graph(4) # or DiGraph, MultiGraph, MultiDiGraph, etc\n",
    "ebunch=[(1, 2), (2, 3)]\n",
    "G.remove_edges_from(ebunch)\n",
    "#Removing multiple copies of edges\n",
    "G = nx.MultiGraph()\n",
    "keys = G.add_edges_from([(1, 2), (1, 2), (1, 2)])\n",
    "G.remove_edges_from([(1, 2), (1, 2)])\n",
    "list(G.edges())\n",
    "[(1, 2)]\n",
    "G.remove_edges_from([(1, 2), (1, 2)]) # silently ignore extra copy\n",
    "list(G.edges) # now empty graph\n",
    "[]\n"
   ]
  },
  {
   "cell_type": "code",
   "execution_count": 3,
   "metadata": {},
   "outputs": [
    {
     "data": {
      "image/png": "[encoded data removed]",
      "text/plain": [
       "<Figure size 432x288 with 1 Axes>"
      ]
     },
     "metadata": {},
     "output_type": "display_data"
    }
   ],
   "source": [
    "nx.draw(G)"
   ]
  },
  {
   "cell_type": "code",
   "execution_count": null,
   "metadata": {},
   "outputs": [],
   "source": []
  }
 ],
 "metadata": {
  "kernelspec": {
   "display_name": "Python 3",
   "language": "python",
   "name": "python3"
  },
  "language_info": {
   "codemirror_mode": {
    "name": "ipython",
    "version": 3
   },
   "file_extension": ".py",
   "mimetype": "text/x-python",
   "name": "python",
   "nbconvert_exporter": "python",
   "pygments_lexer": "ipython3",
   "version": "3.7.2"
  }
 },
 "nbformat": 4,
 "nbformat_minor": 2
}
