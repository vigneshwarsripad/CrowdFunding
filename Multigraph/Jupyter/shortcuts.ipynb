{
 "cells": [
  {
   "cell_type": "code",
   "execution_count": 1,
   "metadata": {},
   "outputs": [
    {
     "ename": "SyntaxError",
     "evalue": "invalid syntax (<ipython-input-1-f8f19a7d1625>, line 11)",
     "output_type": "error",
     "traceback": [
      "\u001b[1;36m  File \u001b[1;32m\"<ipython-input-1-f8f19a7d1625>\"\u001b[1;36m, line \u001b[1;32m11\u001b[0m\n\u001b[1;33m    ... for nbr, keydict in nbrsdict.items():\u001b[0m\n\u001b[1;37m          ^\u001b[0m\n\u001b[1;31mSyntaxError\u001b[0m\u001b[1;31m:\u001b[0m invalid syntax\n"
     ]
    }
   ],
   "source": [
    "import networkx as nx\n",
    "import matplotlib\n",
    "1 in G # check if node in graph\n",
    "True\n",
    "[n for n in G if n<3] # iterate through nodes\n",
    "[1, 2]\n",
    "len(G) # number of nodes in graph\n",
    "5\n",
    "G[1] # adjacency dict-like view keyed by neighbor to edge attributes\n",
    "#AdjacencyView({2: {0: {'weight': 4}, 1: {'color': 'blue'}}}) Often the best way to traverse all edges of a graph is via the neighbors. The neighbors are reported as an adjacency-dict G.adj or G.adjacency(). for n, nbrsdict in G.adjacency():\n",
    "... for nbr, keydict in nbrsdict.items():\n",
    "... for key, eattr in keydict.items():\n",
    "... if 'weight' in eattr:\n",
    "... # Do something useful with the edges\n",
    "... pass\n",
    "#But the edges() method is often more convenient:\n",
    "for u, v, keys, weight in G.edges(data='weight', keys=True):\n",
    "... if weight is not None:\n",
    "... # Do something useful with the edges\n",
    "... pass\n"
   ]
  },
  {
   "cell_type": "code",
   "execution_count": null,
   "metadata": {},
   "outputs": [],
   "source": []
  }
 ],
 "metadata": {
  "kernelspec": {
   "display_name": "Python 3",
   "language": "python",
   "name": "python3"
  },
  "language_info": {
   "codemirror_mode": {
    "name": "ipython",
    "version": 3
   },
   "file_extension": ".py",
   "mimetype": "text/x-python",
   "name": "python",
   "nbconvert_exporter": "python",
   "pygments_lexer": "ipython3",
   "version": "3.7.2"
  }
 },
 "nbformat": 4,
 "nbformat_minor": 2
}
