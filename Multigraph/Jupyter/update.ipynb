{
 "cells": [
  {
   "cell_type": "code",
   "execution_count": null,
   "metadata": {},
   "outputs": [],
   "source": [
    "G = nx.path_graph(5)\n",
    "G.update(nx.complete_graph(range(4,10)))\n",
    "from itertools import combinations\n",
    "edges = ((u, v, {'power': u * v})\n",
    "\n",
    "... for u, v in combinations(range(10, 20), 2)\n",
    "... if u * v < 225)\n",
    "nodes = [1000] # for singleton, use a container\n",
    "G.update(edges, nodes)\n",
    "\n",
    "# dict-of-set/list/tuple\n",
    "adj = {1: {2, 3}, 2: {1, 3}, 3: {1, 2}}\n",
    "e = [(u, v) for u, nbrs in adj.items() for v in nbrs]\n",
    "G.update(edges=e, nodes=adj)\n",
    "DG = nx.DiGraph()\n",
    "# dict-of-dict-of-attribute\n",
    "adj = {1: {2: 1.3, 3: 0.7}, 2: {1: 1.4}, 3: {1: 0.7}}\n",
    "e = [(u, v, {'weight': d}) for u, nbrs in adj.items()\n",
    "... for v, d in nbrs.items()]\n",
    "DG.update(edges=e, nodes=adj)\n",
    "# dict-of-dict-of-dict\n",
    "adj = {1: {2: {'weight': 1.3}, 3: {'color': 0.7, 'weight':1.2}}}\n",
    "e = [(u, v, {'weight': d}) for u, nbrs in adj.items()\n",
    "... for v, d in nbrs.items()]\n",
    "DG.update(edges=e, nodes=adj)\n",
    "# predecessor adjacency (dict-of-set)\n",
    "pred = {1: {2, 3}, 2: {3}, 3: {3}}\n",
    "e = [(v, u) for u, nbrs in pred.items() for v in nbrs]\n",
    "# MultiGraph dict-of-dict-of-dict-of-attribute\n",
    "MDG = nx.MultiDiGraph()\n",
    "adj = {1: {2: {0: {'weight': 1.3}, 1: {'weight': 1.2}}},\n",
    "... 3: {2: {0: {'weight': 0.7}}}}\n",
    "e = [(u, v, ekey, d) for u, nbrs in adj.items()\n",
    "... for v, keydict in nbrs.items()\n",
    "... for ekey, d in keydict.items()]\n",
    "MDG.update(edges=e)\n"
   ]
  }
 ],
 "metadata": {
  "kernelspec": {
   "display_name": "Python 3",
   "language": "python",
   "name": "python3"
  },
  "language_info": {
   "codemirror_mode": {
    "name": "ipython",
    "version": 3
   },
   "file_extension": ".py",
   "mimetype": "text/x-python",
   "name": "python",
   "nbconvert_exporter": "python",
   "pygments_lexer": "ipython3",
   "version": "3.7.2"
  }
 },
 "nbformat": 4,
 "nbformat_minor": 2
}
