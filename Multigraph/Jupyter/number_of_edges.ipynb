{
 "cells": [
  {
   "cell_type": "code",
   "execution_count": 1,
   "metadata": {},
   "outputs": [
    {
     "data": {
      "text/plain": [
       "1"
      ]
     },
     "execution_count": 1,
     "metadata": {},
     "output_type": "execute_result"
    }
   ],
   "source": [
    "import networkx as nx\n",
    "import matplotlib\n",
    "#For undirected multigraphs, this method counts the total number of edges in the graph:\n",
    "G = nx.MultiGraph()\n",
    "G.add_edges_from([(0, 1), (0, 1), (1, 2)])\n",
    "[0, 1, 0]\n",
    "G.number_of_edges()\n",
    "3\n",
    "#If you specify two nodes, this counts the total number of edges joining the two nodes:\n",
    "G.number_of_edges(0, 1)\n",
    "2\n",
    "#For directed multigraphs, this method can count the total number of directed edges from u to v:\n",
    "\n",
    "G = nx.MultiDiGraph()\n",
    "G.add_edges_from([(0, 1), (0, 1), (1, 0)])\n",
    "[0, 1, 0]\n",
    "G.number_of_edges(0, 1)\n",
    "2\n",
    "G.number_of_edges(1, 0)\n",
    "1"
   ]
  },
  {
   "cell_type": "code",
   "execution_count": 3,
   "metadata": {},
   "outputs": [
    {
     "data": {
      "image/png": "[encoded data removed]",
      "text/plain": [
       "<Figure size 432x288 with 1 Axes>"
      ]
     },
     "metadata": {},
     "output_type": "display_data"
    }
   ],
   "source": [
    "nx.draw(G)"
   ]
  },
  {
   "cell_type": "code",
   "execution_count": null,
   "metadata": {},
   "outputs": [],
   "source": []
  }
 ],
 "metadata": {
  "kernelspec": {
   "display_name": "Python 3",
   "language": "python",
   "name": "python3"
  },
  "language_info": {
   "codemirror_mode": {
    "name": "ipython",
    "version": 3
   },
   "file_extension": ".py",
   "mimetype": "text/x-python",
   "name": "python",
   "nbconvert_exporter": "python",
   "pygments_lexer": "ipython3",
   "version": "3.7.2"
  }
 },
 "nbformat": 4,
 "nbformat_minor": 2
}
