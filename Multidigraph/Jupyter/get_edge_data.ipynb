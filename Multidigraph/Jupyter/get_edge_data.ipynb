{
 "cells": [
  {
   "cell_type": "code",
   "execution_count": 1,
   "metadata": {},
   "outputs": [
    {
     "data": {
      "text/plain": [
       "0"
      ]
     },
     "execution_count": 1,
     "metadata": {},
     "output_type": "execute_result"
    }
   ],
   "source": [
    "import networkx as nx\n",
    "G = nx.MultiGraph() # or MultiDiGraph\n",
    "key = G.add_edge(0, 1, key='a', weight=7)\n",
    "G[0][1]['a'] # key='a'\n",
    "{'weight': 7}\n",
    "G.edges[0, 1, 'a'] # key='a'\n",
    "{'weight': 7}\n",
    "#Warning: we protect the graph data structure by making G.edges and G[1][2] read-only dict-like structures.\n",
    "#However, you can assign values to attributes in e.g. G.edges[1, 2, 'a'] or G[1][2]['a'] using an\n",
    "#additional bracket as shown next. You need to specify all edge info to assign to the edge data associated with an\n",
    "#edge.\n",
    "G[0][1]['a']['weight'] = 10\n",
    "G.edges[0, 1, 'a']['weight'] = 10\n",
    "G[0][1]['a']['weight']\n",
    "10\n",
    "G.edges[1, 0, 'a']['weight']\n",
    "10\n",
    "\n",
    "G = nx.MultiGraph() # or MultiDiGraph\n",
    "nx.add_path(G, [0, 1, 2, 3])\n",
    "G.get_edge_data(0, 1)\n",
    "{0: {}}\n",
    "e = (0, 1)\n",
    "G.get_edge_data(*e) # tuple form\n",
    "{0: {}}\n",
    "G.get_edge_data('a', 'b', default=0) # edge not in graph, return 0\n",
    "0\n"
   ]
  },
  {
   "cell_type": "code",
   "execution_count": 3,
   "metadata": {},
   "outputs": [
    {
     "data": {
      "image/png": "[encoded data removed]",
      "text/plain": [
       "<Figure size 432x288 with 1 Axes>"
      ]
     },
     "metadata": {},
     "output_type": "display_data"
    }
   ],
   "source": [
    "nx.draw(G)"
   ]
  },
  {
   "cell_type": "code",
   "execution_count": null,
   "metadata": {},
   "outputs": [],
   "source": []
  }
 ],
 "metadata": {
  "kernelspec": {
   "display_name": "Python 3",
   "language": "python",
   "name": "python3"
  },
  "language_info": {
   "codemirror_mode": {
    "name": "ipython",
    "version": 3
   },
   "file_extension": ".py",
   "mimetype": "text/x-python",
   "name": "python",
   "nbconvert_exporter": "python",
   "pygments_lexer": "ipython3",
   "version": "3.7.2"
  }
 },
 "nbformat": 4,
 "nbformat_minor": 2
}
