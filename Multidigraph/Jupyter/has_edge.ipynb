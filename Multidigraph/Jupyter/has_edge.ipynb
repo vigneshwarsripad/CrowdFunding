{
 "cells": [
  {
   "cell_type": "code",
   "execution_count": 1,
   "metadata": {},
   "outputs": [
    {
     "data": {
      "text/plain": [
       "True"
      ]
     },
     "execution_count": 1,
     "metadata": {},
     "output_type": "execute_result"
    }
   ],
   "source": [
    "import networkx as nx\n",
    "#Can be called either using two nodes u, v, an edge tuple (u, v), or an edge tuple (u, v, key).\n",
    "G = nx.MultiGraph() # or MultiDiGraph\n",
    "nx.add_path(G, [0, 1, 2, 3])\n",
    "G.has_edge(0, 1) # using two nodes\n",
    "True\n",
    "e = (0, 1)\n",
    "G.has_edge(*e) # e is a 2-tuple (u, v)\n",
    "True\n",
    "G.add_edge(0, 1, key='a')\n",
    "\n",
    "\n",
    "'a'\n",
    "G.has_edge(0, 1, key='a') # specify key\n",
    "True\n",
    "e=(0, 1, 'a')\n",
    "G.has_edge(*e) # e is a 3-tuple (u, v, 'a')\n",
    "True\n",
    "#The following syntax are equivalent:\n",
    "G.has_edge(0, 1)\n",
    "True\n",
    "1 in G[0] # though this gives :exc:`KeyError` if 0 not in G\n",
    "True\n"
   ]
  },
  {
   "cell_type": "code",
   "execution_count": 3,
   "metadata": {},
   "outputs": [
    {
     "data": {
      "image/png": "[encoded data removed]",
      "text/plain": [
       "<Figure size 432x288 with 1 Axes>"
      ]
     },
     "metadata": {},
     "output_type": "display_data"
    }
   ],
   "source": [
    "nx.draw(G)"
   ]
  },
  {
   "cell_type": "code",
   "execution_count": null,
   "metadata": {},
   "outputs": [],
   "source": []
  }
 ],
 "metadata": {
  "kernelspec": {
   "display_name": "Python 3",
   "language": "python",
   "name": "python3"
  },
  "language_info": {
   "codemirror_mode": {
    "name": "ipython",
    "version": 3
   },
   "file_extension": ".py",
   "mimetype": "text/x-python",
   "name": "python",
   "nbconvert_exporter": "python",
   "pygments_lexer": "ipython3",
   "version": "3.7.2"
  }
 },
 "nbformat": 4,
 "nbformat_minor": 2
}
