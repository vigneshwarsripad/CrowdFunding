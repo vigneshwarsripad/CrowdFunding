{
 "cells": [
  {
   "cell_type": "code",
   "execution_count": 2,
   "metadata": {},
   "outputs": [],
   "source": [
    "import networkx as nx\n",
    "G = nx.Graph() # or DiGraph, MultiGraph, MultiDiGraph, etc\n",
    "G.add_node(1)\n",
    "G.add_node('Hello')\n",
    "K3 = nx.Graph([(0, 1), (1, 2), (2, 0)])\n",
    "G.add_node(K3)\n",
    "G.number_of_nodes()\n",
    "3\n",
    "#Use keywords set/change node attributes:\n",
    "G.add_node(1, size=10)\n",
    "G.add_node(3, weight=0.4, UTM=('13S', 382871, 3972649))\n"
   ]
  },
  {
   "cell_type": "code",
   "execution_count": 4,
   "metadata": {},
   "outputs": [
    {
     "data": {
      "image/png": "[encoded data removed]",
      "text/plain": [
       "<Figure size 432x288 with 1 Axes>"
      ]
     },
     "metadata": {},
     "output_type": "display_data"
    }
   ],
   "source": [
    "nx.draw(G)"
   ]
  },
  {
   "cell_type": "code",
   "execution_count": null,
   "metadata": {},
   "outputs": [],
   "source": []
  }
 ],
 "metadata": {
  "kernelspec": {
   "display_name": "Python 3",
   "language": "python",
   "name": "python3"
  },
  "language_info": {
   "codemirror_mode": {
    "name": "ipython",
    "version": 3
   },
   "file_extension": ".py",
   "mimetype": "text/x-python",
   "name": "python",
   "nbconvert_exporter": "python",
   "pygments_lexer": "ipython3",
   "version": "3.7.2"
  }
 },
 "nbformat": 4,
 "nbformat_minor": 2
}
