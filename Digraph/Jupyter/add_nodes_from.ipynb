{
 "cells": [
  {
   "cell_type": "code",
   "execution_count": 1,
   "metadata": {},
   "outputs": [
    {
     "data": {
      "text/plain": [
       "11"
      ]
     },
     "execution_count": 1,
     "metadata": {},
     "output_type": "execute_result"
    }
   ],
   "source": [
    "import networkx as nx\n",
    "import matplotlib\n",
    "G = nx.Graph() # or DiGraph, MultiGraph, MultiDiGraph, etc\n",
    "G.add_nodes_from('Hello')\n",
    "K3 = nx.Graph([(0, 1), (1, 2), (2, 0)])\n",
    "G.add_nodes_from(K3)\n",
    "sorted(G.nodes(), key=str)\n",
    "[0, 1, 2, 'H', 'e', 'l', 'o']\n",
    "#Use keywords to update specific node attributes for every node.\n",
    "G.add_nodes_from([1, 2], size=10)\n",
    "G.add_nodes_from([3, 4], weight=0.4)\n",
    "#Use (node, attrdict) tuples to update attributes for specific nodes.\n",
    "G.add_nodes_from([(1, dict(size=11)), (2, {'color':'blue'})])\n",
    "G.nodes[1]['size']\n",
    "11\n",
    "H = nx.Graph()\n",
    "H.add_nodes_from(G.nodes(data=True))\n",
    "H.nodes[1]['size']\n",
    "11\n"
   ]
  },
  {
   "cell_type": "code",
   "execution_count": null,
   "metadata": {},
   "outputs": [],
   "source": []
  }
 ],
 "metadata": {
  "kernelspec": {
   "display_name": "Python 3",
   "language": "python",
   "name": "python3"
  },
  "language_info": {
   "codemirror_mode": {
    "name": "ipython",
    "version": 3
   },
   "file_extension": ".py",
   "mimetype": "text/x-python",
   "name": "python",
   "nbconvert_exporter": "python",
   "pygments_lexer": "ipython3",
   "version": "3.7.2"
  }
 },
 "nbformat": 4,
 "nbformat_minor": 2
}
