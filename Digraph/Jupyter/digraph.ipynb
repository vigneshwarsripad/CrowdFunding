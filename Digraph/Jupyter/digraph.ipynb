{
 "cells": [
  {
   "cell_type": "code",
   "execution_count": 2,
   "metadata": {},
   "outputs": [],
   "source": [
    "import networkx as nx\n",
    "import matplotlib\n",
    "#Create an empty graph structure (a “null graph”) with no nodes and no edges.\n",
    "G = nx.DiGraph()\n",
    "#G can be grown in several ways.\n",
    "#Nodes:\n",
    "#Add one node at a time:\n",
    "G.add_node(1)\n",
    "#Add the nodes from any container (a list, dict, set or even the lines from a file or the nodes from another graph).\n",
    "G.add_nodes_from([2, 3])\n",
    "G.add_nodes_from(range(100, 110))\n",
    "H = nx.path_graph(10)\n",
    "G.add_nodes_from(H)\n",
    "#In addition to strings and integers any hashable Python object (except None) can represent a node, e.g. a customized node object, or even another Graph.\n",
    "G.add_node(H)\n",
    "#Edges:\n",
    "#G can also be grown by adding edges.\n",
    "#Add one edge,\n",
    "G.add_edge(1, 2)\n",
    "#a list of edges,\n",
    "G.add_edges_from([(1, 2), (1, 3)])\n",
    "#or a collection of edges,\n",
    "G.add_edges_from(H.edges)"
   ]
  },
  {
   "cell_type": "code",
   "execution_count": null,
   "metadata": {},
   "outputs": [],
   "source": []
  }
 ],
 "metadata": {
  "kernelspec": {
   "display_name": "Python 3",
   "language": "python",
   "name": "python3"
  },
  "language_info": {
   "codemirror_mode": {
    "name": "ipython",
    "version": 3
   },
   "file_extension": ".py",
   "mimetype": "text/x-python",
   "name": "python",
   "nbconvert_exporter": "python",
   "pygments_lexer": "ipython3",
   "version": "3.7.2"
  }
 },
 "nbformat": 4,
 "nbformat_minor": 2
}
