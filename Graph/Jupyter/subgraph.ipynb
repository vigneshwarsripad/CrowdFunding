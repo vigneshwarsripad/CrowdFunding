{
 "cells": [
  {
   "cell_type": "code",
   "execution_count": 7,
   "metadata": {},
   "outputs": [
    {
     "ename": "IndentationError",
     "evalue": "unexpected indent (<ipython-input-7-fdf2e2643b70>, line 3)",
     "output_type": "error",
     "traceback": [
      "\u001b[1;36m  File \u001b[1;32m\"<ipython-input-7-fdf2e2643b70>\"\u001b[1;36m, line \u001b[1;32m3\u001b[0m\n\u001b[1;33m    SG.add_nodes_from((n, G.nodes[n]) for n in largest_wcc)\u001b[0m\n\u001b[1;37m    ^\u001b[0m\n\u001b[1;31mIndentationError\u001b[0m\u001b[1;31m:\u001b[0m unexpected indent\n"
     ]
    }
   ],
   "source": [
    "# Create a subgraph SG based on a (possibly multigraph) G\n",
    "SG = G.__class__()\n",
    "        SG.add_nodes_from((n, G.nodes[n]) for n in largest_wcc)\n",
    "        if SG.is_multigraph:\n",
    "        SG.add_edges_from((n, nbr, key, d)\n",
    "for n, nbrs in G.adj.items() if n in largest_wcc\n",
    "for nbr, keydict in nbrs.items() if nbr in largest_wcc\n",
    "for key, d in keydict.items())\n",
    "else:\n",
    "    SG.add_edges_from((n, nbr, d)\n",
    "    for n, nbrs in G.adj.items() if n in largest_wcc\n",
    "    for nbr, d in nbrs.items() if nbr in largest_wcc)\n",
    "    SG.graph.update(G.graph)\n",
    "\n",
    "\n",
    "G = nx.path_graph(4) # or DiGraph, MultiGraph, MultiDiGraph, etc\n",
    "H = G.subgraph([0, 1, 2])\n",
    "list(H.edges)\n",
    "\n"
   ]
  },
  {
   "cell_type": "code",
   "execution_count": null,
   "metadata": {},
   "outputs": [],
   "source": []
  }
 ],
 "metadata": {
  "kernelspec": {
   "display_name": "Python 3",
   "language": "python",
   "name": "python3"
  },
  "language_info": {
   "codemirror_mode": {
    "name": "ipython",
    "version": 3
   },
   "file_extension": ".py",
   "mimetype": "text/x-python",
   "name": "python",
   "nbconvert_exporter": "python",
   "pygments_lexer": "ipython3",
   "version": "3.7.2"
  }
 },
 "nbformat": 4,
 "nbformat_minor": 2
}
