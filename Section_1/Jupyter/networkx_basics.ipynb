{
 "cells": [
  {
   "cell_type": "code",
   "execution_count": 1,
   "metadata": {},
   "outputs": [],
   "source": [
    "# -*- coding: utf-8 -*-\n",
    "\"\"\"\n",
    "Created on Sat Jan 26 14:07:26 2019\n",
    "\n",
    "@author: vigne\n",
    "\"\"\"\n",
    "##networkx must be imported\n",
    "import networkx as nx\n",
    "\n",
    "\n",
    "##Undirected graph which ignores edges between nodes\n",
    "G = nx.Graph()\n",
    "\n",
    "##Directed Graph, with directed edges\n",
    "G = nx.DiGraph()\n",
    "\n",
    "##Graph with undirected edges between pairs of nodes\n",
    "G = nx.MultiGraph()\n",
    "\n",
    "##Directed version of Multigraph\n",
    "G = nx.MultiDiGraph()"
   ]
  },
  {
   "cell_type": "code",
   "execution_count": 2,
   "metadata": {},
   "outputs": [],
   "source": [
    "nx.draw(G)"
   ]
  },
  {
   "cell_type": "code",
   "execution_count": null,
   "metadata": {},
   "outputs": [],
   "source": []
  }
 ],
 "metadata": {
  "kernelspec": {
   "display_name": "Python 3",
   "language": "python",
   "name": "python3"
  },
  "language_info": {
   "codemirror_mode": {
    "name": "ipython",
    "version": 3
   },
   "file_extension": ".py",
   "mimetype": "text/x-python",
   "name": "python",
   "nbconvert_exporter": "python",
   "pygments_lexer": "ipython3",
   "version": "3.7.2"
  }
 },
 "nbformat": 4,
 "nbformat_minor": 2
}
