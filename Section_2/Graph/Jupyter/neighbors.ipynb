{
 "cells": [
  {
   "cell_type": "code",
   "execution_count": 3,
   "metadata": {},
   "outputs": [
    {
     "data": {
      "text/plain": [
       "[1]"
      ]
     },
     "execution_count": 3,
     "metadata": {},
     "output_type": "execute_result"
    }
   ],
   "source": [
    "import networkx as nx\n",
    "import matplotlib\n",
    "\n",
    "G = nx.path_graph(4) # or DiGraph, MultiGraph, MultiDiGraph, etc\n",
    "[n for n in G.neighbors(0)]\n",
    "\n",
    "#Notes\n",
    "#It is usually more convenient (and faster) to access the adjacency dictionary as G[n]:\n"
   ]
  },
  {
   "cell_type": "code",
   "execution_count": 4,
   "metadata": {},
   "outputs": [
    {
     "data": {
      "text/plain": [
       "[1]"
      ]
     },
     "execution_count": 4,
     "metadata": {},
     "output_type": "execute_result"
    }
   ],
   "source": [
    "G = nx.Graph() # or DiGraph, MultiGraph, MultiDiGraph, etc\n",
    "G.add_edge('a', 'b', weight=7)\n",
    "G['a']\n",
    "#AtlasView({'b': {'weight': 7}})\n",
    "G = nx.path_graph(4)\n",
    "[n for n in G[0]]\n"
   ]
  },
  {
   "cell_type": "code",
   "execution_count": null,
   "metadata": {},
   "outputs": [],
   "source": []
  }
 ],
 "metadata": {
  "kernelspec": {
   "display_name": "Python 3",
   "language": "python",
   "name": "python3"
  },
  "language_info": {
   "codemirror_mode": {
    "name": "ipython",
    "version": 3
   },
   "file_extension": ".py",
   "mimetype": "text/x-python",
   "name": "python",
   "nbconvert_exporter": "python",
   "pygments_lexer": "ipython3",
   "version": "3.7.2"
  }
 },
 "nbformat": 4,
 "nbformat_minor": 2
}
